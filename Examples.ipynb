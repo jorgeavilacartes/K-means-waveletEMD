{
 "cells": [
  {
   "cell_type": "markdown",
   "metadata": {},
   "source": [
    "# K-means with WaveletEMD \n",
    "EMD states for Earth Mover Distance, also known as Wasserstein Distance. This distance emerges from the Optimal Transport field. Intuitively, given two distributions, it correspond to the cost of transforming one distribution to the other (or moving the mass of one to the other one). \n",
    "\n",
    "EMD is too expensive to compute $(O(N^3 logN))$ computational complexity [1], where N is the number of elements in the histogram. But a linear approximation of EMD can be computed using wavelet transform.\n",
    "\n",
    "K-means using this metric has been used for clustering Tomographic projections [2] (in images), outperforming the classical k-means with Euclidean Distance.  \n",
    "\n",
    "In this project, we will use K-means with the proposed WaveletEMD given in equation (2) of [1] to compare k-mer distributions (or any 1-dimensional distribution)\n",
    "\n",
    "References\n",
    "- [1] [Approximate earth mover’s distance in linear time](https://ieeexplore.ieee.org/document/4587662)\n",
    "- [2] [Wasserstein K-Means for Clustering Tomographic Projections](https://doi.org/10.48550/arXiv.2010.09989)\n"
   ]
  },
  {
   "cell_type": "code",
   "execution_count": 15,
   "metadata": {},
   "outputs": [],
   "source": [
    "import pywt\n",
    "import numpy as np "
   ]
  },
  {
   "cell_type": "markdown",
   "metadata": {},
   "source": [
    "## pywt usage"
   ]
  },
  {
   "cell_type": "code",
   "execution_count": 16,
   "metadata": {},
   "outputs": [
    {
     "data": {
      "text/plain": [
       "['haar',\n",
       " 'db',\n",
       " 'sym',\n",
       " 'coif',\n",
       " 'bior',\n",
       " 'rbio',\n",
       " 'dmey',\n",
       " 'gaus',\n",
       " 'mexh',\n",
       " 'morl',\n",
       " 'cgau',\n",
       " 'shan',\n",
       " 'fbsp',\n",
       " 'cmor']"
      ]
     },
     "execution_count": 16,
     "metadata": {},
     "output_type": "execute_result"
    }
   ],
   "source": [
    "# families of wavelet functions availables\n",
    "pywt.families()"
   ]
  },
  {
   "cell_type": "code",
   "execution_count": 17,
   "metadata": {},
   "outputs": [
    {
     "name": "stdout",
     "output_type": "stream",
     "text": [
      "Wavelet sym5\n",
      "  Family name:    Symlets\n",
      "  Short name:     sym\n",
      "  Filters length: 10\n",
      "  Orthogonal:     True\n",
      "  Biorthogonal:   True\n",
      "  Symmetry:       near symmetric\n",
      "  DWT:            True\n",
      "  CWT:            False\n"
     ]
    }
   ],
   "source": [
    "# Information of a wavelet family\n",
    "w = pywt.Wavelet(\"sym5\")\n",
    "print(w)"
   ]
  },
  {
   "cell_type": "code",
   "execution_count": 18,
   "metadata": {},
   "outputs": [
    {
     "data": {
      "text/plain": [
       "[0.027333068345077982,\n",
       " -0.029519490925774643,\n",
       " -0.039134249302383094,\n",
       " -0.1993975339773936,\n",
       " 0.7234076904024206,\n",
       " -0.6339789634582119,\n",
       " 0.01660210576452232,\n",
       " 0.17532808990845047,\n",
       " -0.021101834024758855,\n",
       " -0.019538882735286728]"
      ]
     },
     "execution_count": 18,
     "metadata": {},
     "output_type": "execute_result"
    }
   ],
   "source": [
    "# Filters\n",
    "\n",
    "# decomposition filters\n",
    "w.dec_lo  # lowpass\n",
    "w.dec_hi  # highpass \n",
    "\n",
    "# reconstruction filters\n",
    "w.rec_lo  # lowpass \n",
    "w.rec_hi  # highpass"
   ]
  },
  {
   "cell_type": "markdown",
   "metadata": {},
   "source": [
    "___\n",
    "# Multilevel 1d-wavelet transform"
   ]
  },
  {
   "cell_type": "code",
   "execution_count": 19,
   "metadata": {},
   "outputs": [
    {
     "name": "stderr",
     "output_type": "stream",
     "text": [
      "/home/disco/Github/K-means-waveletEMD/env/lib/python3.9/site-packages/pywt/_multilevel.py:43: UserWarning: Level value of 3 is too high: all coefficients will experience boundary effects.\n",
      "  warnings.warn(\n"
     ]
    }
   ],
   "source": [
    "data= data = np.array([0.1, 0.2, 0.3, 0.4, 1.0, 2.0, 0.1, 1.0, 0.9, 2.0, 0.1, 0.2, 0.3, 0.4, 1.0, 2.0, 0.1, 1.0, 0.9, 2.0, 0.1, 0.2, 0.3, 0.4, 1.0, 2.0, 0.1, 1.0, 0.9, 2.0])\n",
    "coeff = pywt.wavedec(data=data,wavelet=\"sym5\",mode=\"symmetric\",level=3)"
   ]
  },
  {
   "cell_type": "code",
   "execution_count": 20,
   "metadata": {},
   "outputs": [
    {
     "data": {
      "text/plain": [
       "4"
      ]
     },
     "execution_count": 20,
     "metadata": {},
     "output_type": "execute_result"
    }
   ],
   "source": [
    "# Number of output vecotor coefficients is level+1 (the first one is A_{level}, the others are D_j, for j=level,...1)\n",
    "len(coeff) "
   ]
  },
  {
   "cell_type": "code",
   "execution_count": 21,
   "metadata": {},
   "outputs": [],
   "source": [
    "# level 1\n",
    "coeff = pywt.wavedec(data=data,wavelet=\"sym5\",mode=\"symmetric\",level=1)\n",
    "cA1, cD1 = coeff "
   ]
  },
  {
   "cell_type": "code",
   "execution_count": 22,
   "metadata": {},
   "outputs": [
    {
     "name": "stderr",
     "output_type": "stream",
     "text": [
      "/home/disco/Github/K-means-waveletEMD/env/lib/python3.9/site-packages/pywt/_multilevel.py:43: UserWarning: Level value of 2 is too high: all coefficients will experience boundary effects.\n",
      "  warnings.warn(\n"
     ]
    }
   ],
   "source": [
    "# level 2 \n",
    "coeff = pywt.wavedec(data=data,wavelet=\"sym5\",mode=\"symmetric\",level=2)\n",
    "cA2, cD2, cD1 = coeff "
   ]
  },
  {
   "cell_type": "code",
   "execution_count": 23,
   "metadata": {},
   "outputs": [],
   "source": [
    "# level 3 \n",
    "coeff = pywt.wavedec(data=data,wavelet=\"sym5\",mode=\"symmetric\",level=3)\n",
    "cA3, cD3, cD2, cD1 = coeff"
   ]
  },
  {
   "cell_type": "markdown",
   "metadata": {},
   "source": [
    "___\n",
    "## WaveletEMD\n",
    "An approximation to EMD"
   ]
  },
  {
   "cell_type": "code",
   "execution_count": 27,
   "metadata": {},
   "outputs": [],
   "source": [
    "import random \n",
    "import numpy as np\n",
    "from src import WaveletEMD"
   ]
  },
  {
   "cell_type": "code",
   "execution_count": 28,
   "metadata": {},
   "outputs": [],
   "source": [
    "N = 1000\n",
    "vec1 = np.array([random.random() for _ in range(N)])\n",
    "# vec1 = np.array([random.random() for _ in range(N)])\n",
    "\n",
    "vec2 = vec1.copy()\n",
    "vec2[10] = vec2[10]+0.1"
   ]
  },
  {
   "cell_type": "code",
   "execution_count": 29,
   "metadata": {},
   "outputs": [],
   "source": [
    "wemd = WaveletEMD(level=2)"
   ]
  },
  {
   "cell_type": "code",
   "execution_count": 65,
   "metadata": {},
   "outputs": [
    {
     "data": {
      "text/plain": [
       "(26.641774034545495, 0.031249999999999986)"
      ]
     },
     "execution_count": 65,
     "metadata": {},
     "output_type": "execute_result"
    }
   ],
   "source": [
    "# Euclidean distance vs WaveletEMD\n",
    "np.sqrt((vec1**2+vec2**2).sum()), wemd(vec1, vec2)"
   ]
  },
  {
   "cell_type": "markdown",
   "metadata": {},
   "source": [
    "___\n",
    "# K-means with waveletEMD "
   ]
  },
  {
   "cell_type": "code",
   "execution_count": 38,
   "metadata": {},
   "outputs": [],
   "source": [
    "import random\n",
    "from src import KmeansOT\n",
    "from src import WaveletEMD"
   ]
  },
  {
   "cell_type": "code",
   "execution_count": 56,
   "metadata": {},
   "outputs": [],
   "source": [
    "# data to train the model\n",
    "n_samples = 100\n",
    "data = [[random.random() for _ in range(10)] for _ in range(n_samples)]"
   ]
  },
  {
   "cell_type": "code",
   "execution_count": 57,
   "metadata": {},
   "outputs": [
    {
     "name": "stderr",
     "output_type": "stream",
     "text": [
      "/home/disco/Github/K-means-waveletEMD/env/lib/python3.9/site-packages/pywt/_multilevel.py:43: UserWarning: Level value of 6 is too high: all coefficients will experience boundary effects.\n",
      "  warnings.warn(\n"
     ]
    }
   ],
   "source": [
    "num_clusters = 2\n",
    "count_matrix = data\n",
    "\n",
    "kmeans = KmeansOT(n_clusters=num_clusters, random_state=2)\n",
    "kmeans.fit(count_matrix)"
   ]
  },
  {
   "cell_type": "code",
   "execution_count": 58,
   "metadata": {},
   "outputs": [
    {
     "data": {
      "text/plain": [
       "[[0.4989833901879933,\n",
       "  0.41089414575344835,\n",
       "  0.5779812548321506,\n",
       "  0.4250396968267552,\n",
       "  0.36524235009151057,\n",
       "  0.6425030542102316,\n",
       "  0.5557030355827277,\n",
       "  0.4673782260266972,\n",
       "  0.3765753396496643,\n",
       "  0.5605073375078665],\n",
       " [0.6388573966117741,\n",
       "  0.54166938027865,\n",
       "  0.35573626369139405,\n",
       "  0.546660667126009,\n",
       "  0.5779806900851033,\n",
       "  0.46799282708480644,\n",
       "  0.41575600380457023,\n",
       "  0.5954634643321924,\n",
       "  0.5994643336400639,\n",
       "  0.44903191241512713]]"
      ]
     },
     "execution_count": 58,
     "metadata": {},
     "output_type": "execute_result"
    }
   ],
   "source": [
    "kmeans.centers"
   ]
  },
  {
   "cell_type": "code",
   "execution_count": 59,
   "metadata": {},
   "outputs": [
    {
     "data": {
      "text/plain": [
       "array([0, 0, 1])"
      ]
     },
     "execution_count": 59,
     "metadata": {},
     "output_type": "execute_result"
    }
   ],
   "source": [
    "kmeans.predict(data)[[0,7,9]]"
   ]
  },
  {
   "cell_type": "markdown",
   "metadata": {},
   "source": [
    "To use other wavelet configurations see [pywavelet documentation](https://pywavelets.readthedocs.io/en/latest/ref/dwt-discrete-wavelet-transform.html#multilevel-decomposition-using-wavedec) and  [here for wavelet families and functions](https://pywavelets.readthedocs.io/en/latest/ref/wavelets.html)"
   ]
  },
  {
   "cell_type": "code",
   "execution_count": 60,
   "metadata": {},
   "outputs": [],
   "source": [
    "# Other wavelet functions\n",
    "wemd = WaveletEMD(wavelet = \"haar\", level = 2, mode = \"zero\") \n",
    "new_metric = distance_metric(type_metric.USER_DEFINED, func=wemd)"
   ]
  },
  {
   "cell_type": "code",
   "execution_count": 61,
   "metadata": {},
   "outputs": [
    {
     "data": {
      "text/plain": [
       "['haar',\n",
       " 'db',\n",
       " 'sym',\n",
       " 'coif',\n",
       " 'bior',\n",
       " 'rbio',\n",
       " 'dmey',\n",
       " 'gaus',\n",
       " 'mexh',\n",
       " 'morl',\n",
       " 'cgau',\n",
       " 'shan',\n",
       " 'fbsp',\n",
       " 'cmor']"
      ]
     },
     "execution_count": 61,
     "metadata": {},
     "output_type": "execute_result"
    }
   ],
   "source": [
    "pywt.families()"
   ]
  },
  {
   "cell_type": "code",
   "execution_count": 62,
   "metadata": {},
   "outputs": [
    {
     "data": {
      "text/plain": [
       "['haar']"
      ]
     },
     "execution_count": 62,
     "metadata": {},
     "output_type": "execute_result"
    }
   ],
   "source": [
    "pywt.wavelist(\"haar\")"
   ]
  },
  {
   "cell_type": "code",
   "execution_count": 63,
   "metadata": {},
   "outputs": [],
   "source": [
    "kmeans = KmeansOT(n_clusters=num_clusters, metric = new_metric, random_state=2)\n",
    "kmeans.fit(count_matrix)"
   ]
  },
  {
   "cell_type": "code",
   "execution_count": 64,
   "metadata": {},
   "outputs": [
    {
     "data": {
      "text/plain": [
       "array([0, 0, 1])"
      ]
     },
     "execution_count": 64,
     "metadata": {},
     "output_type": "execute_result"
    }
   ],
   "source": [
    "kmeans.predict(data)[[0,7,9]]"
   ]
  }
 ],
 "metadata": {
  "kernelspec": {
   "display_name": "Python 3.9.5 ('env': venv)",
   "language": "python",
   "name": "python3"
  },
  "language_info": {
   "codemirror_mode": {
    "name": "ipython",
    "version": 3
   },
   "file_extension": ".py",
   "mimetype": "text/x-python",
   "name": "python",
   "nbconvert_exporter": "python",
   "pygments_lexer": "ipython3",
   "version": "3.9.5"
  },
  "orig_nbformat": 4,
  "vscode": {
   "interpreter": {
    "hash": "c45aa879c061e5d51cc749a647f5332b2203a95a082f1e107ff881f45e7b37f1"
   }
  }
 },
 "nbformat": 4,
 "nbformat_minor": 2
}
